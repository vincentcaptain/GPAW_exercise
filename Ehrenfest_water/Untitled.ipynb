{
 "cells": [
  {
   "cell_type": "code",
   "execution_count": 1,
   "metadata": {},
   "outputs": [],
   "source": [
    "from ase.io.trajectory import Trajectory\n",
    "import io, os"
   ]
  },
  {
   "cell_type": "code",
   "execution_count": 3,
   "metadata": {},
   "outputs": [],
   "source": [
    "#reading in the trajectory file created during \n",
    "#optimization\n",
    "traj = Trajectory(\"H2O_laser_td_linear.traj\")\n",
    "#getting number of steps it took for geometry \n",
    "#optimization\n",
    "nsteps = 500\n",
    "\n",
    "string = 'structure'\n",
    "\n",
    "#get current working directory and make a scratch \n",
    "#directory\n",
    "path = os.getcwd()\n",
    "path = path + '/scratch'\n",
    "if not os.path.exists(path): os.makedirs(path)\n",
    "\n",
    "#output file name\n",
    "outFileName = 'trajectory.xyz'\n"
   ]
  },
  {
   "cell_type": "code",
   "execution_count": 5,
   "metadata": {},
   "outputs": [
    {
     "ename": "AttributeError",
     "evalue": "'TrajectoryReader' object has no attribute 'get_positions'",
     "output_type": "error",
     "traceback": [
      "\u001b[0;31m---------------------------------------------------------------------------\u001b[0m",
      "\u001b[0;31mAttributeError\u001b[0m                            Traceback (most recent call last)",
      "\u001b[0;32m<ipython-input-5-d91a1922f063>\u001b[0m in \u001b[0;36m<module>\u001b[0;34m\u001b[0m\n\u001b[0;32m----> 1\u001b[0;31m \u001b[0mtraj\u001b[0m\u001b[0;34m.\u001b[0m\u001b[0mget_positions\u001b[0m\u001b[0;34m(\u001b[0m\u001b[0;34m)\u001b[0m\u001b[0;34m\u001b[0m\u001b[0;34m\u001b[0m\u001b[0m\n\u001b[0m",
      "\u001b[0;31mAttributeError\u001b[0m: 'TrajectoryReader' object has no attribute 'get_positions'"
     ]
    }
   ],
   "source": [
    "traj.get_positions()"
   ]
  },
  {
   "cell_type": "code",
   "execution_count": null,
   "metadata": {},
   "outputs": [],
   "source": [
    "#write each structure from the .traj file in .xyz format\n",
    "for i in range(0, nsteps+1):\n",
    "    atoms = traj[i]\n",
    "    string = 'structure%03d' % (i,) +'.xyz'\n",
    "    outStruct = os.path.join(path, string)\n",
    "    write(outStruct, atoms)\n",
    "#combines all optimization structures in one trajectory \n",
    "#file\n",
    "    inFile = open(os.path.join(path, 'structure%03d' % \n",
    "                  (i,)  +'.xyz'), 'r')\n",
    "    fileStr = inFile.read()\n",
    "    outFile = open(outFileName, 'a')\n",
    "    outFile.write(fileStr)"
   ]
  }
 ],
 "metadata": {
  "kernelspec": {
   "display_name": "GPAW",
   "language": "python",
   "name": "gpaw"
  },
  "language_info": {
   "codemirror_mode": {
    "name": "ipython",
    "version": 3
   },
   "file_extension": ".py",
   "mimetype": "text/x-python",
   "name": "python",
   "nbconvert_exporter": "python",
   "pygments_lexer": "ipython3",
   "version": "3.6.9"
  }
 },
 "nbformat": 4,
 "nbformat_minor": 4
}
